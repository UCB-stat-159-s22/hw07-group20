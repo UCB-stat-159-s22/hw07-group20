{
 "cells": [
  {
   "cell_type": "code",
   "execution_count": 1,
   "id": "23da1738-59bc-453f-9c7d-fa937e86c4a8",
   "metadata": {},
   "outputs": [],
   "source": [
    "import pandas as pd\n",
    "from sodapy import Socrata"
   ]
  },
  {
   "cell_type": "code",
   "execution_count": 2,
   "id": "68cca21c-aceb-4c18-8e43-ea504d1326c2",
   "metadata": {},
   "outputs": [
    {
     "data": {
      "text/plain": [
       "\u001b[0;31mSignature:\u001b[0m \u001b[0mSocrata\u001b[0m\u001b[0;34m.\u001b[0m\u001b[0mget\u001b[0m\u001b[0;34m(\u001b[0m\u001b[0mself\u001b[0m\u001b[0;34m,\u001b[0m \u001b[0mdataset_identifier\u001b[0m\u001b[0;34m,\u001b[0m \u001b[0mcontent_type\u001b[0m\u001b[0;34m=\u001b[0m\u001b[0;34m'json'\u001b[0m\u001b[0;34m,\u001b[0m \u001b[0;34m**\u001b[0m\u001b[0mkwargs\u001b[0m\u001b[0;34m)\u001b[0m\u001b[0;34m\u001b[0m\u001b[0;34m\u001b[0m\u001b[0m\n",
       "\u001b[0;31mDocstring:\u001b[0m\n",
       "Read data from the requested resource. Options for content_type are json,\n",
       "csv, and xml. Optionally, specify a keyword arg to filter results:\n",
       "\n",
       "    select : the set of columns to be returned, defaults to *\n",
       "    where : filters the rows to be returned, defaults to limit\n",
       "    order : specifies the order of results\n",
       "    group : column to group results on\n",
       "    limit : max number of results to return, defaults to 1000\n",
       "    offset : offset, used for paging. Defaults to 0\n",
       "    q : performs a full text search for a value\n",
       "    query : full SoQL query string, all as one parameter\n",
       "    exclude_system_fields : defaults to true. If set to false, the\n",
       "        response will include system fields (:id, :created_at, and\n",
       "        :updated_at)\n",
       "\n",
       "More information about the SoQL parameters can be found at the official\n",
       "docs:\n",
       "    http://dev.socrata.com/docs/queries.html\n",
       "\n",
       "More information about system fields can be found here:\n",
       "    http://dev.socrata.com/docs/system-fields.html\n",
       "\u001b[0;31mFile:\u001b[0m      ~/envs/invlyr/lib/python3.10/site-packages/sodapy/socrata.py\n",
       "\u001b[0;31mType:\u001b[0m      function\n"
      ]
     },
     "metadata": {},
     "output_type": "display_data"
    }
   ],
   "source": [
    "Socrata.get?"
   ]
  },
  {
   "cell_type": "code",
   "execution_count": 3,
   "id": "d0bcada3-bdc2-4fac-bb07-d56cdec20858",
   "metadata": {},
   "outputs": [],
   "source": [
    "# Establish queries\n",
    "# https://dev.socrata.com/docs/queries/\n",
    "\n",
    "# cols = [\n",
    "#     # 'year',\n",
    "#     'date',\n",
    "#     'statefips',\n",
    "#     'countyfips',\n",
    "#     'ctfips',\n",
    "#     # 'latitude',\n",
    "#     # 'longitude',\n",
    "#     'ds_pm_pred',\n",
    "#     'ds_pm_stdd',\n",
    "# ]\n",
    "\n",
    "# filt = [\n",
    "#     # \"year = '2014'\",\n",
    "#     \"RIGHT(date, 1) = '4'\", # same as year == 2014, but works w/o selecting year\n",
    "#     \"statefips IN ('6', '48', '17')\", # in CA, TX, or IL\n",
    "# ]\n",
    "\n",
    "# Establish queries\n",
    "# https://dev.socrata.com/docs/queries/\n",
    "\n",
    "cols = \"date, statefips, countyfips, ctfips, ds_pm_pred, ds_pm_stdd\"\n",
    "\n",
    "filt = \"year = '2014' AND statefips IN ('6', '48', '17')\" #RIGHT(date, 1) = '4'"
   ]
  },
  {
   "cell_type": "code",
   "execution_count": 5,
   "id": "d4574260-237f-4187-9082-71fd6d333a92",
   "metadata": {},
   "outputs": [
    {
     "name": "stderr",
     "output_type": "stream",
     "text": [
      "WARNING:root:Requests made without an app_token will be subject to strict throttling limits.\n"
     ]
    },
    {
     "name": "stdout",
     "output_type": "stream",
     "text": [
      "(5991475, 6)\n"
     ]
    },
    {
     "data": {
      "text/html": [
       "<div>\n",
       "<style scoped>\n",
       "    .dataframe tbody tr th:only-of-type {\n",
       "        vertical-align: middle;\n",
       "    }\n",
       "\n",
       "    .dataframe tbody tr th {\n",
       "        vertical-align: top;\n",
       "    }\n",
       "\n",
       "    .dataframe thead th {\n",
       "        text-align: right;\n",
       "    }\n",
       "</style>\n",
       "<table border=\"1\" class=\"dataframe\">\n",
       "  <thead>\n",
       "    <tr style=\"text-align: right;\">\n",
       "      <th></th>\n",
       "      <th>date</th>\n",
       "      <th>statefips</th>\n",
       "      <th>countyfips</th>\n",
       "      <th>ctfips</th>\n",
       "      <th>ds_pm_pred</th>\n",
       "      <th>ds_pm_stdd</th>\n",
       "    </tr>\n",
       "  </thead>\n",
       "  <tbody>\n",
       "    <tr>\n",
       "      <th>0</th>\n",
       "      <td>01JAN2014</td>\n",
       "      <td>48</td>\n",
       "      <td>48061</td>\n",
       "      <td>48061014100</td>\n",
       "      <td>13.9979</td>\n",
       "      <td>14.8386</td>\n",
       "    </tr>\n",
       "    <tr>\n",
       "      <th>1</th>\n",
       "      <td>01JAN2014</td>\n",
       "      <td>48</td>\n",
       "      <td>48061</td>\n",
       "      <td>48061013309</td>\n",
       "      <td>14.2144</td>\n",
       "      <td>14.9526</td>\n",
       "    </tr>\n",
       "    <tr>\n",
       "      <th>2</th>\n",
       "      <td>01JAN2014</td>\n",
       "      <td>48</td>\n",
       "      <td>48061</td>\n",
       "      <td>48061013308</td>\n",
       "      <td>14.874</td>\n",
       "      <td>15.7786</td>\n",
       "    </tr>\n",
       "    <tr>\n",
       "      <th>3</th>\n",
       "      <td>01JAN2014</td>\n",
       "      <td>48</td>\n",
       "      <td>48061</td>\n",
       "      <td>48061013307</td>\n",
       "      <td>14.7068</td>\n",
       "      <td>15.4085</td>\n",
       "    </tr>\n",
       "    <tr>\n",
       "      <th>4</th>\n",
       "      <td>01JAN2014</td>\n",
       "      <td>48</td>\n",
       "      <td>48061</td>\n",
       "      <td>48061013306</td>\n",
       "      <td>14.6796</td>\n",
       "      <td>16.2741</td>\n",
       "    </tr>\n",
       "  </tbody>\n",
       "</table>\n",
       "</div>"
      ],
      "text/plain": [
       "        date statefips countyfips       ctfips ds_pm_pred ds_pm_stdd\n",
       "0  01JAN2014        48      48061  48061014100    13.9979    14.8386\n",
       "1  01JAN2014        48      48061  48061013309    14.2144    14.9526\n",
       "2  01JAN2014        48      48061  48061013308     14.874    15.7786\n",
       "3  01JAN2014        48      48061  48061013307    14.7068    15.4085\n",
       "4  01JAN2014        48      48061  48061013306    14.6796    16.2741"
      ]
     },
     "execution_count": 5,
     "metadata": {},
     "output_type": "execute_result"
    }
   ],
   "source": [
    "# https://data.cdc.gov/Environmental-Health-Toxicology/Daily-Census-Tract-Level-PM2-5-Concentrations-2011/fcqm-xrf4\n",
    "\n",
    "# Unauthenticated client only works with public data sets. Note 'None'\n",
    "# in place of application token, and no username or password:\n",
    "client = Socrata(\"data.cdc.gov\", None)\n",
    "\n",
    "# First 2000 results, returned as JSON from API / converted to Python list of\n",
    "# dictionaries by sodapy.\n",
    "results = client.get(\"fcqm-xrf4\", select=cols, where=filt, limit=10000000)\n",
    "\n",
    "client.close()\n",
    "\n",
    "# Convert to pandas DataFrame\n",
    "results_df = pd.DataFrame.from_records(results)\n",
    "\n",
    "print(results_df.shape)\n",
    "results_df.head(5)"
   ]
  },
  {
   "cell_type": "code",
   "execution_count": 6,
   "id": "66bb3ce6-1b4f-490f-b728-8c71105d7cf7",
   "metadata": {},
   "outputs": [
    {
     "data": {
      "text/plain": [
       "date          datetime64[ns]\n",
       "statefips               int8\n",
       "countyfips             int32\n",
       "ctfips                 int64\n",
       "ds_pm_pred           float32\n",
       "ds_pm_stdd           float32\n",
       "dtype: object"
      ]
     },
     "execution_count": 6,
     "metadata": {},
     "output_type": "execute_result"
    }
   ],
   "source": [
    "df_dtypes = {\n",
    "    'year': 'int16', # can be dropped\n",
    "    'date': 'category', \n",
    "    'statefips': 'int8', \n",
    "    'countyfips': 'int32', \n",
    "    'ctfips': 'int64', \n",
    "    'latitude': 'float32',\n",
    "    'longitude': 'float32', \n",
    "    'ds_pm_pred': 'float32', \n",
    "    'ds_pm_stdd': 'float32',\n",
    "}\n",
    "\n",
    "for k, v in df_dtypes.items():\n",
    "    if k in results_df.columns:\n",
    "        if k == 'date':\n",
    "            # continue\n",
    "            results_df[k] = pd.to_datetime(results_df[k], format='%d%b%Y')\n",
    "        else:\n",
    "            results_df[k] = results_df[k].astype(v)\n",
    "\n",
    "results_df.dtypes"
   ]
  },
  {
   "cell_type": "code",
   "execution_count": 9,
   "id": "2a60b11d-0d0c-4d24-a168-e603cd39b4bc",
   "metadata": {},
   "outputs": [
    {
     "data": {
      "text/plain": [
       "Index          0.000122\n",
       "date          45.711327\n",
       "statefips      5.713916\n",
       "countyfips    22.855663\n",
       "ctfips        45.711327\n",
       "ds_pm_pred    22.855663\n",
       "ds_pm_stdd    22.855663\n",
       "dtype: float64"
      ]
     },
     "execution_count": 9,
     "metadata": {},
     "output_type": "execute_result"
    }
   ],
   "source": [
    "# Print size of each col in RAM (units are MB)\n",
    "results_df.memory_usage(index=True, deep=True) / (1024**2)"
   ]
  },
  {
   "cell_type": "code",
   "execution_count": 11,
   "id": "0469b0c9-7102-4391-9c79-2784098fad08",
   "metadata": {},
   "outputs": [],
   "source": [
    "import dask.dataframe as dd\n",
    "\n",
    "ddf = dd.from_pandas(results_df, npartitions=60) # of ~100,000 rows each\n"
   ]
  },
  {
   "cell_type": "code",
   "execution_count": 13,
   "id": "220716fd-0865-427d-88a1-11822895ab0b",
   "metadata": {},
   "outputs": [
    {
     "data": {
      "text/plain": [
       "['cdc_data.h5',\n",
       " 'cdc_data.h5',\n",
       " 'cdc_data.h5',\n",
       " 'cdc_data.h5',\n",
       " 'cdc_data.h5',\n",
       " 'cdc_data.h5',\n",
       " 'cdc_data.h5',\n",
       " 'cdc_data.h5',\n",
       " 'cdc_data.h5',\n",
       " 'cdc_data.h5',\n",
       " 'cdc_data.h5',\n",
       " 'cdc_data.h5',\n",
       " 'cdc_data.h5',\n",
       " 'cdc_data.h5',\n",
       " 'cdc_data.h5',\n",
       " 'cdc_data.h5',\n",
       " 'cdc_data.h5',\n",
       " 'cdc_data.h5',\n",
       " 'cdc_data.h5',\n",
       " 'cdc_data.h5',\n",
       " 'cdc_data.h5',\n",
       " 'cdc_data.h5',\n",
       " 'cdc_data.h5',\n",
       " 'cdc_data.h5',\n",
       " 'cdc_data.h5',\n",
       " 'cdc_data.h5',\n",
       " 'cdc_data.h5',\n",
       " 'cdc_data.h5',\n",
       " 'cdc_data.h5',\n",
       " 'cdc_data.h5',\n",
       " 'cdc_data.h5',\n",
       " 'cdc_data.h5',\n",
       " 'cdc_data.h5',\n",
       " 'cdc_data.h5',\n",
       " 'cdc_data.h5',\n",
       " 'cdc_data.h5',\n",
       " 'cdc_data.h5',\n",
       " 'cdc_data.h5',\n",
       " 'cdc_data.h5',\n",
       " 'cdc_data.h5',\n",
       " 'cdc_data.h5',\n",
       " 'cdc_data.h5',\n",
       " 'cdc_data.h5',\n",
       " 'cdc_data.h5',\n",
       " 'cdc_data.h5',\n",
       " 'cdc_data.h5',\n",
       " 'cdc_data.h5',\n",
       " 'cdc_data.h5',\n",
       " 'cdc_data.h5',\n",
       " 'cdc_data.h5',\n",
       " 'cdc_data.h5',\n",
       " 'cdc_data.h5',\n",
       " 'cdc_data.h5',\n",
       " 'cdc_data.h5',\n",
       " 'cdc_data.h5',\n",
       " 'cdc_data.h5',\n",
       " 'cdc_data.h5',\n",
       " 'cdc_data.h5',\n",
       " 'cdc_data.h5',\n",
       " 'cdc_data.h5']"
      ]
     },
     "execution_count": 13,
     "metadata": {},
     "output_type": "execute_result"
    }
   ],
   "source": [
    "ddf.to_hdf('cdc_data.h5', key='pm')"
   ]
  },
  {
   "cell_type": "code",
   "execution_count": 17,
   "id": "030a33c7-f79c-4a6d-b7c4-38fb12f9eed4",
   "metadata": {},
   "outputs": [
    {
     "data": {
      "text/plain": [
       "['cdc_data_comp.h5',\n",
       " 'cdc_data_comp.h5',\n",
       " 'cdc_data_comp.h5',\n",
       " 'cdc_data_comp.h5',\n",
       " 'cdc_data_comp.h5',\n",
       " 'cdc_data_comp.h5',\n",
       " 'cdc_data_comp.h5',\n",
       " 'cdc_data_comp.h5',\n",
       " 'cdc_data_comp.h5',\n",
       " 'cdc_data_comp.h5',\n",
       " 'cdc_data_comp.h5',\n",
       " 'cdc_data_comp.h5',\n",
       " 'cdc_data_comp.h5',\n",
       " 'cdc_data_comp.h5',\n",
       " 'cdc_data_comp.h5',\n",
       " 'cdc_data_comp.h5',\n",
       " 'cdc_data_comp.h5',\n",
       " 'cdc_data_comp.h5',\n",
       " 'cdc_data_comp.h5',\n",
       " 'cdc_data_comp.h5',\n",
       " 'cdc_data_comp.h5',\n",
       " 'cdc_data_comp.h5',\n",
       " 'cdc_data_comp.h5',\n",
       " 'cdc_data_comp.h5',\n",
       " 'cdc_data_comp.h5',\n",
       " 'cdc_data_comp.h5',\n",
       " 'cdc_data_comp.h5',\n",
       " 'cdc_data_comp.h5',\n",
       " 'cdc_data_comp.h5',\n",
       " 'cdc_data_comp.h5',\n",
       " 'cdc_data_comp.h5',\n",
       " 'cdc_data_comp.h5',\n",
       " 'cdc_data_comp.h5',\n",
       " 'cdc_data_comp.h5',\n",
       " 'cdc_data_comp.h5',\n",
       " 'cdc_data_comp.h5',\n",
       " 'cdc_data_comp.h5',\n",
       " 'cdc_data_comp.h5',\n",
       " 'cdc_data_comp.h5',\n",
       " 'cdc_data_comp.h5',\n",
       " 'cdc_data_comp.h5',\n",
       " 'cdc_data_comp.h5',\n",
       " 'cdc_data_comp.h5',\n",
       " 'cdc_data_comp.h5',\n",
       " 'cdc_data_comp.h5',\n",
       " 'cdc_data_comp.h5',\n",
       " 'cdc_data_comp.h5',\n",
       " 'cdc_data_comp.h5',\n",
       " 'cdc_data_comp.h5',\n",
       " 'cdc_data_comp.h5',\n",
       " 'cdc_data_comp.h5',\n",
       " 'cdc_data_comp.h5',\n",
       " 'cdc_data_comp.h5',\n",
       " 'cdc_data_comp.h5',\n",
       " 'cdc_data_comp.h5',\n",
       " 'cdc_data_comp.h5',\n",
       " 'cdc_data_comp.h5',\n",
       " 'cdc_data_comp.h5',\n",
       " 'cdc_data_comp.h5',\n",
       " 'cdc_data_comp.h5']"
      ]
     },
     "execution_count": 17,
     "metadata": {},
     "output_type": "execute_result"
    }
   ],
   "source": [
    "ddf.to_hdf('cdc_data_comp.h5', key='pm', complib='lzo', complevel=1, format='table')"
   ]
  },
  {
   "cell_type": "code",
   "execution_count": 14,
   "id": "da006b67-d074-4b0b-97a5-f5d2ba8bb53b",
   "metadata": {},
   "outputs": [
    {
     "data": {
      "text/plain": [
       "(None,)"
      ]
     },
     "execution_count": 14,
     "metadata": {},
     "output_type": "execute_result"
    }
   ],
   "source": [
    "ddf.to_parquet('cdc_data.parquet.gzip', compression='gzip')"
   ]
  },
  {
   "cell_type": "code",
   "execution_count": 16,
   "id": "c2b95428-f745-4b11-b11d-26a05c1546d7",
   "metadata": {},
   "outputs": [
    {
     "data": {
      "text/plain": [
       "date          datetime64[ns]\n",
       "statefips               int8\n",
       "countyfips             int32\n",
       "ctfips                 int64\n",
       "ds_pm_pred           float32\n",
       "ds_pm_stdd           float32\n",
       "dtype: object"
      ]
     },
     "execution_count": 16,
     "metadata": {},
     "output_type": "execute_result"
    }
   ],
   "source": [
    "ddf.dtypes"
   ]
  },
  {
   "cell_type": "code",
   "execution_count": null,
   "id": "bd662abc-76da-4aa3-8da1-ac13d349584f",
   "metadata": {},
   "outputs": [],
   "source": []
  }
 ],
 "metadata": {
  "kernelspec": {
   "display_name": "IPython - invlyr",
   "language": "python",
   "name": "invlyr"
  },
  "language_info": {
   "codemirror_mode": {
    "name": "ipython",
    "version": 3
   },
   "file_extension": ".py",
   "mimetype": "text/x-python",
   "name": "python",
   "nbconvert_exporter": "python",
   "pygments_lexer": "ipython3",
   "version": "3.10.4"
  }
 },
 "nbformat": 4,
 "nbformat_minor": 5
}
