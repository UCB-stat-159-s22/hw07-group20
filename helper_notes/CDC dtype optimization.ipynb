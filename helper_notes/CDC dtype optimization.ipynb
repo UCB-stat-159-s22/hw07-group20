{
 "cells": [
  {
   "cell_type": "code",
   "execution_count": 1,
   "id": "99695761-f9ba-4ef1-8a3a-2ea79bfe87cb",
   "metadata": {},
   "outputs": [],
   "source": [
    "import pandas as pd\n",
    "from sodapy import Socrata"
   ]
  },
  {
   "cell_type": "code",
   "execution_count": 2,
   "id": "512ba9f5-2c4e-42ff-a190-54e95b1873a9",
   "metadata": {},
   "outputs": [
    {
     "name": "stderr",
     "output_type": "stream",
     "text": [
      "WARNING:root:Requests made without an app_token will be subject to strict throttling limits.\n"
     ]
    }
   ],
   "source": [
    "# Unauthenticated client only works with public data sets. Note 'None'\n",
    "# in place of application token, and no username or password:\n",
    "client = Socrata(\"data.cdc.gov\", None)\n",
    "\n",
    "# Example authenticated client (needed for non-public datasets):\n",
    "# client = Socrata(data.cdc.gov,\n",
    "#                  MyAppToken,\n",
    "#                  userame=\"user@example.com\",\n",
    "#                  password=\"AFakePassword\")\n",
    "\n",
    "# First 2000 results, returned as JSON from API / converted to Python list of\n",
    "# dictionaries by sodapy.\n",
    "results = client.get(\"fcqm-xrf4\", limit=2000)\n",
    "\n",
    "# Convert to pandas DataFrame\n",
    "results_df = pd.DataFrame.from_records(results)\n",
    "\n",
    "client.close()"
   ]
  },
  {
   "cell_type": "code",
   "execution_count": 3,
   "id": "c4f139d5-3fb9-4efa-9085-70b48e24c5fe",
   "metadata": {},
   "outputs": [
    {
     "data": {
      "text/plain": [
       "\u001b[0;31mSignature:\u001b[0m \u001b[0mSocrata\u001b[0m\u001b[0;34m.\u001b[0m\u001b[0mget\u001b[0m\u001b[0;34m(\u001b[0m\u001b[0mself\u001b[0m\u001b[0;34m,\u001b[0m \u001b[0mdataset_identifier\u001b[0m\u001b[0;34m,\u001b[0m \u001b[0mcontent_type\u001b[0m\u001b[0;34m=\u001b[0m\u001b[0;34m'json'\u001b[0m\u001b[0;34m,\u001b[0m \u001b[0;34m**\u001b[0m\u001b[0mkwargs\u001b[0m\u001b[0;34m)\u001b[0m\u001b[0;34m\u001b[0m\u001b[0;34m\u001b[0m\u001b[0m\n",
       "\u001b[0;31mDocstring:\u001b[0m\n",
       "Read data from the requested resource. Options for content_type are json,\n",
       "csv, and xml. Optionally, specify a keyword arg to filter results:\n",
       "\n",
       "    select : the set of columns to be returned, defaults to *\n",
       "    where : filters the rows to be returned, defaults to limit\n",
       "    order : specifies the order of results\n",
       "    group : column to group results on\n",
       "    limit : max number of results to return, defaults to 1000\n",
       "    offset : offset, used for paging. Defaults to 0\n",
       "    q : performs a full text search for a value\n",
       "    query : full SoQL query string, all as one parameter\n",
       "    exclude_system_fields : defaults to true. If set to false, the\n",
       "        response will include system fields (:id, :created_at, and\n",
       "        :updated_at)\n",
       "\n",
       "More information about the SoQL parameters can be found at the official\n",
       "docs:\n",
       "    http://dev.socrata.com/docs/queries.html\n",
       "\n",
       "More information about system fields can be found here:\n",
       "    http://dev.socrata.com/docs/system-fields.html\n",
       "\u001b[0;31mFile:\u001b[0m      ~/envs/invlyr/lib/python3.10/site-packages/sodapy/socrata.py\n",
       "\u001b[0;31mType:\u001b[0m      function\n"
      ]
     },
     "metadata": {},
     "output_type": "display_data"
    }
   ],
   "source": [
    "Socrata.get?"
   ]
  },
  {
   "cell_type": "code",
   "execution_count": 4,
   "id": "8feab446-e883-4dd1-a35f-9a81855ef3bf",
   "metadata": {},
   "outputs": [
    {
     "data": {
      "text/html": [
       "<div>\n",
       "<style scoped>\n",
       "    .dataframe tbody tr th:only-of-type {\n",
       "        vertical-align: middle;\n",
       "    }\n",
       "\n",
       "    .dataframe tbody tr th {\n",
       "        vertical-align: top;\n",
       "    }\n",
       "\n",
       "    .dataframe thead th {\n",
       "        text-align: right;\n",
       "    }\n",
       "</style>\n",
       "<table border=\"1\" class=\"dataframe\">\n",
       "  <thead>\n",
       "    <tr style=\"text-align: right;\">\n",
       "      <th></th>\n",
       "      <th>year</th>\n",
       "      <th>date</th>\n",
       "      <th>statefips</th>\n",
       "      <th>countyfips</th>\n",
       "      <th>ctfips</th>\n",
       "      <th>latitude</th>\n",
       "      <th>longitude</th>\n",
       "      <th>ds_pm_pred</th>\n",
       "      <th>ds_pm_stdd</th>\n",
       "    </tr>\n",
       "  </thead>\n",
       "  <tbody>\n",
       "    <tr>\n",
       "      <th>0</th>\n",
       "      <td>2014</td>\n",
       "      <td>13JAN2014</td>\n",
       "      <td>6</td>\n",
       "      <td>6067</td>\n",
       "      <td>6067007421</td>\n",
       "      <td>38.71559</td>\n",
       "      <td>-121.3348</td>\n",
       "      <td>12.4809</td>\n",
       "      <td>7.1488</td>\n",
       "    </tr>\n",
       "    <tr>\n",
       "      <th>1</th>\n",
       "      <td>2014</td>\n",
       "      <td>13JAN2014</td>\n",
       "      <td>29</td>\n",
       "      <td>29189</td>\n",
       "      <td>29189212102</td>\n",
       "      <td>38.71566</td>\n",
       "      <td>-90.27569</td>\n",
       "      <td>5.6266</td>\n",
       "      <td>3.1003</td>\n",
       "    </tr>\n",
       "    <tr>\n",
       "      <th>2</th>\n",
       "      <td>2014</td>\n",
       "      <td>13JAN2014</td>\n",
       "      <td>24</td>\n",
       "      <td>24033</td>\n",
       "      <td>24033801308</td>\n",
       "      <td>38.71611</td>\n",
       "      <td>-77.00048</td>\n",
       "      <td>8.9377</td>\n",
       "      <td>5.367</td>\n",
       "    </tr>\n",
       "    <tr>\n",
       "      <th>3</th>\n",
       "      <td>2014</td>\n",
       "      <td>13JAN2014</td>\n",
       "      <td>51</td>\n",
       "      <td>51061</td>\n",
       "      <td>51061930205</td>\n",
       "      <td>38.71735</td>\n",
       "      <td>-77.8965</td>\n",
       "      <td>8.0598</td>\n",
       "      <td>5.6433</td>\n",
       "    </tr>\n",
       "    <tr>\n",
       "      <th>4</th>\n",
       "      <td>2014</td>\n",
       "      <td>13JAN2014</td>\n",
       "      <td>29</td>\n",
       "      <td>29135</td>\n",
       "      <td>29135385100</td>\n",
       "      <td>38.71752</td>\n",
       "      <td>-92.50101</td>\n",
       "      <td>5.8187</td>\n",
       "      <td>5.0234</td>\n",
       "    </tr>\n",
       "    <tr>\n",
       "      <th>...</th>\n",
       "      <td>...</td>\n",
       "      <td>...</td>\n",
       "      <td>...</td>\n",
       "      <td>...</td>\n",
       "      <td>...</td>\n",
       "      <td>...</td>\n",
       "      <td>...</td>\n",
       "      <td>...</td>\n",
       "      <td>...</td>\n",
       "    </tr>\n",
       "    <tr>\n",
       "      <th>1995</th>\n",
       "      <td>2014</td>\n",
       "      <td>13JAN2014</td>\n",
       "      <td>29</td>\n",
       "      <td>29095</td>\n",
       "      <td>29095007802</td>\n",
       "      <td>39.02446</td>\n",
       "      <td>-94.53214</td>\n",
       "      <td>4.3534</td>\n",
       "      <td>2.3999</td>\n",
       "    </tr>\n",
       "    <tr>\n",
       "      <th>1996</th>\n",
       "      <td>2014</td>\n",
       "      <td>13JAN2014</td>\n",
       "      <td>24</td>\n",
       "      <td>24033</td>\n",
       "      <td>24033807304</td>\n",
       "      <td>39.02504</td>\n",
       "      <td>-76.95937</td>\n",
       "      <td>11.9968</td>\n",
       "      <td>6.5554</td>\n",
       "    </tr>\n",
       "    <tr>\n",
       "      <th>1997</th>\n",
       "      <td>2014</td>\n",
       "      <td>13JAN2014</td>\n",
       "      <td>51</td>\n",
       "      <td>51107</td>\n",
       "      <td>51107611019</td>\n",
       "      <td>39.0252</td>\n",
       "      <td>-77.49299</td>\n",
       "      <td>10.8999</td>\n",
       "      <td>6.8784</td>\n",
       "    </tr>\n",
       "    <tr>\n",
       "      <th>1998</th>\n",
       "      <td>2014</td>\n",
       "      <td>13JAN2014</td>\n",
       "      <td>51</td>\n",
       "      <td>51107</td>\n",
       "      <td>51107611205</td>\n",
       "      <td>39.0254</td>\n",
       "      <td>-77.37886</td>\n",
       "      <td>11.31</td>\n",
       "      <td>6.8032</td>\n",
       "    </tr>\n",
       "    <tr>\n",
       "      <th>1999</th>\n",
       "      <td>2014</td>\n",
       "      <td>13JAN2014</td>\n",
       "      <td>54</td>\n",
       "      <td>54097</td>\n",
       "      <td>54097966600</td>\n",
       "      <td>39.02588</td>\n",
       "      <td>-80.25226</td>\n",
       "      <td>4.5226</td>\n",
       "      <td>3.7849</td>\n",
       "    </tr>\n",
       "  </tbody>\n",
       "</table>\n",
       "<p>2000 rows × 9 columns</p>\n",
       "</div>"
      ],
      "text/plain": [
       "      year       date statefips countyfips       ctfips  latitude  longitude  \\\n",
       "0     2014  13JAN2014         6       6067   6067007421  38.71559  -121.3348   \n",
       "1     2014  13JAN2014        29      29189  29189212102  38.71566  -90.27569   \n",
       "2     2014  13JAN2014        24      24033  24033801308  38.71611  -77.00048   \n",
       "3     2014  13JAN2014        51      51061  51061930205  38.71735   -77.8965   \n",
       "4     2014  13JAN2014        29      29135  29135385100  38.71752  -92.50101   \n",
       "...    ...        ...       ...        ...          ...       ...        ...   \n",
       "1995  2014  13JAN2014        29      29095  29095007802  39.02446  -94.53214   \n",
       "1996  2014  13JAN2014        24      24033  24033807304  39.02504  -76.95937   \n",
       "1997  2014  13JAN2014        51      51107  51107611019   39.0252  -77.49299   \n",
       "1998  2014  13JAN2014        51      51107  51107611205   39.0254  -77.37886   \n",
       "1999  2014  13JAN2014        54      54097  54097966600  39.02588  -80.25226   \n",
       "\n",
       "     ds_pm_pred ds_pm_stdd  \n",
       "0       12.4809     7.1488  \n",
       "1        5.6266     3.1003  \n",
       "2        8.9377      5.367  \n",
       "3        8.0598     5.6433  \n",
       "4        5.8187     5.0234  \n",
       "...         ...        ...  \n",
       "1995     4.3534     2.3999  \n",
       "1996    11.9968     6.5554  \n",
       "1997    10.8999     6.8784  \n",
       "1998      11.31     6.8032  \n",
       "1999     4.5226     3.7849  \n",
       "\n",
       "[2000 rows x 9 columns]"
      ]
     },
     "execution_count": 4,
     "metadata": {},
     "output_type": "execute_result"
    }
   ],
   "source": [
    "results_df"
   ]
  },
  {
   "cell_type": "code",
   "execution_count": 5,
   "id": "6f754487-90e8-4c16-af28-a68599c57f75",
   "metadata": {},
   "outputs": [
    {
     "data": {
      "text/plain": [
       "year          object\n",
       "date          object\n",
       "statefips     object\n",
       "countyfips    object\n",
       "ctfips        object\n",
       "latitude      object\n",
       "longitude     object\n",
       "ds_pm_pred    object\n",
       "ds_pm_stdd    object\n",
       "dtype: object"
      ]
     },
     "execution_count": 5,
     "metadata": {},
     "output_type": "execute_result"
    }
   ],
   "source": [
    "results_df.dtypes"
   ]
  },
  {
   "cell_type": "code",
   "execution_count": 6,
   "id": "83afe0e6-7186-408f-ada2-05381c344588",
   "metadata": {},
   "outputs": [
    {
     "data": {
      "text/html": [
       "<div>\n",
       "<style scoped>\n",
       "    .dataframe tbody tr th:only-of-type {\n",
       "        vertical-align: middle;\n",
       "    }\n",
       "\n",
       "    .dataframe tbody tr th {\n",
       "        vertical-align: top;\n",
       "    }\n",
       "\n",
       "    .dataframe thead th {\n",
       "        text-align: right;\n",
       "    }\n",
       "</style>\n",
       "<table border=\"1\" class=\"dataframe\">\n",
       "  <thead>\n",
       "    <tr style=\"text-align: right;\">\n",
       "      <th></th>\n",
       "      <th></th>\n",
       "      <th>n_decimals</th>\n",
       "      <th>min</th>\n",
       "      <th>max</th>\n",
       "    </tr>\n",
       "    <tr>\n",
       "      <th>type</th>\n",
       "      <th>bits</th>\n",
       "      <th></th>\n",
       "      <th></th>\n",
       "      <th></th>\n",
       "    </tr>\n",
       "  </thead>\n",
       "  <tbody>\n",
       "    <tr>\n",
       "      <th rowspan=\"3\" valign=\"top\">float</th>\n",
       "      <th>16</th>\n",
       "      <td>3</td>\n",
       "      <td>-6.550400e+04</td>\n",
       "      <td>6.550400e+04</td>\n",
       "    </tr>\n",
       "    <tr>\n",
       "      <th>32</th>\n",
       "      <td>6</td>\n",
       "      <td>-3.402823e+38</td>\n",
       "      <td>3.402823e+38</td>\n",
       "    </tr>\n",
       "    <tr>\n",
       "      <th>64</th>\n",
       "      <td>15</td>\n",
       "      <td>-1.797693e+308</td>\n",
       "      <td>1.797693e+308</td>\n",
       "    </tr>\n",
       "    <tr>\n",
       "      <th rowspan=\"4\" valign=\"top\">int</th>\n",
       "      <th>8</th>\n",
       "      <td>0</td>\n",
       "      <td>-1.280000e+02</td>\n",
       "      <td>1.270000e+02</td>\n",
       "    </tr>\n",
       "    <tr>\n",
       "      <th>16</th>\n",
       "      <td>0</td>\n",
       "      <td>-3.276800e+04</td>\n",
       "      <td>3.276700e+04</td>\n",
       "    </tr>\n",
       "    <tr>\n",
       "      <th>32</th>\n",
       "      <td>0</td>\n",
       "      <td>-2.147484e+09</td>\n",
       "      <td>2.147484e+09</td>\n",
       "    </tr>\n",
       "    <tr>\n",
       "      <th>64</th>\n",
       "      <td>0</td>\n",
       "      <td>-9.223372e+18</td>\n",
       "      <td>9.223372e+18</td>\n",
       "    </tr>\n",
       "  </tbody>\n",
       "</table>\n",
       "</div>"
      ],
      "text/plain": [
       "            n_decimals            min            max\n",
       "type  bits                                          \n",
       "float 16             3  -6.550400e+04   6.550400e+04\n",
       "      32             6  -3.402823e+38   3.402823e+38\n",
       "      64            15 -1.797693e+308  1.797693e+308\n",
       "int   8              0  -1.280000e+02   1.270000e+02\n",
       "      16             0  -3.276800e+04   3.276700e+04\n",
       "      32             0  -2.147484e+09   2.147484e+09\n",
       "      64             0  -9.223372e+18   9.223372e+18"
      ]
     },
     "execution_count": 6,
     "metadata": {},
     "output_type": "execute_result"
    }
   ],
   "source": [
    "import numpy as np\n",
    "\n",
    "\n",
    "def np_dtypes():\n",
    "    dtypes = {\n",
    "        'float': [np.float16, np.float32, np.float64],\n",
    "        'int': [np.int8, np.int16, np.int32, np.int64],\n",
    "    }\n",
    "    \n",
    "    df = pd.DataFrame()\n",
    "    \n",
    "    for k, v in dtypes.items():\n",
    "        \n",
    "        for dtype in v:\n",
    "            if k=='float':\n",
    "                dtype_info = np.finfo(dtype)\n",
    "\n",
    "                df_dtype = pd.DataFrame(\n",
    "                    {\n",
    "                        'type': k,\n",
    "                        'bits': dtype_info.bits,\n",
    "                        'n_decimals': dtype_info.precision,\n",
    "                        'min': dtype_info.min,\n",
    "                        'max': dtype_info.max,\n",
    "                    },\n",
    "                    index=[k]\n",
    "                )\n",
    "\n",
    "            if k=='int':\n",
    "                dtype_info = np.iinfo(dtype)\n",
    "\n",
    "                df_dtype = pd.DataFrame(\n",
    "                    {\n",
    "                        'type': k,\n",
    "                        'bits': dtype_info.bits,\n",
    "                        'n_decimals': 0,\n",
    "                        'min': dtype_info.min,\n",
    "                        'max': dtype_info.max,\n",
    "                    },\n",
    "                    index=[k]\n",
    "                )\n",
    "\n",
    "\n",
    "            if df.shape[0]==0:\n",
    "                df = df_dtype.copy()\n",
    "            else:\n",
    "                df = pd.concat([df, df_dtype])\n",
    "    \n",
    "    df = df.reset_index()\n",
    "    df = df.drop(columns=['index'])\n",
    "    df = df.set_index(['type', 'bits'])\n",
    "    \n",
    "    return df\n",
    "\n",
    "\n",
    "np_dtypes()"
   ]
  },
  {
   "cell_type": "code",
   "execution_count": 7,
   "id": "f92704a5-ee90-49e8-a6ca-6c0ac300d800",
   "metadata": {},
   "outputs": [
    {
     "data": {
      "text/html": [
       "<div>\n",
       "<style scoped>\n",
       "    .dataframe tbody tr th:only-of-type {\n",
       "        vertical-align: middle;\n",
       "    }\n",
       "\n",
       "    .dataframe tbody tr th {\n",
       "        vertical-align: top;\n",
       "    }\n",
       "\n",
       "    .dataframe thead th {\n",
       "        text-align: right;\n",
       "    }\n",
       "</style>\n",
       "<table border=\"1\" class=\"dataframe\">\n",
       "  <thead>\n",
       "    <tr style=\"text-align: right;\">\n",
       "      <th></th>\n",
       "      <th>year</th>\n",
       "      <th>date</th>\n",
       "      <th>statefips</th>\n",
       "      <th>countyfips</th>\n",
       "      <th>ctfips</th>\n",
       "      <th>latitude</th>\n",
       "      <th>longitude</th>\n",
       "      <th>ds_pm_pred</th>\n",
       "      <th>ds_pm_stdd</th>\n",
       "    </tr>\n",
       "  </thead>\n",
       "  <tbody>\n",
       "    <tr>\n",
       "      <th>0</th>\n",
       "      <td>2014</td>\n",
       "      <td>13JAN2014</td>\n",
       "      <td>6</td>\n",
       "      <td>6067</td>\n",
       "      <td>6067007421</td>\n",
       "      <td>38.71559</td>\n",
       "      <td>-121.3348</td>\n",
       "      <td>12.4809</td>\n",
       "      <td>7.1488</td>\n",
       "    </tr>\n",
       "    <tr>\n",
       "      <th>1</th>\n",
       "      <td>2014</td>\n",
       "      <td>13JAN2014</td>\n",
       "      <td>29</td>\n",
       "      <td>29189</td>\n",
       "      <td>29189212102</td>\n",
       "      <td>38.71566</td>\n",
       "      <td>-90.27569</td>\n",
       "      <td>5.6266</td>\n",
       "      <td>3.1003</td>\n",
       "    </tr>\n",
       "    <tr>\n",
       "      <th>2</th>\n",
       "      <td>2014</td>\n",
       "      <td>13JAN2014</td>\n",
       "      <td>24</td>\n",
       "      <td>24033</td>\n",
       "      <td>24033801308</td>\n",
       "      <td>38.71611</td>\n",
       "      <td>-77.00048</td>\n",
       "      <td>8.9377</td>\n",
       "      <td>5.367</td>\n",
       "    </tr>\n",
       "    <tr>\n",
       "      <th>3</th>\n",
       "      <td>2014</td>\n",
       "      <td>13JAN2014</td>\n",
       "      <td>51</td>\n",
       "      <td>51061</td>\n",
       "      <td>51061930205</td>\n",
       "      <td>38.71735</td>\n",
       "      <td>-77.8965</td>\n",
       "      <td>8.0598</td>\n",
       "      <td>5.6433</td>\n",
       "    </tr>\n",
       "  </tbody>\n",
       "</table>\n",
       "</div>"
      ],
      "text/plain": [
       "   year       date statefips countyfips       ctfips  latitude  longitude  \\\n",
       "0  2014  13JAN2014         6       6067   6067007421  38.71559  -121.3348   \n",
       "1  2014  13JAN2014        29      29189  29189212102  38.71566  -90.27569   \n",
       "2  2014  13JAN2014        24      24033  24033801308  38.71611  -77.00048   \n",
       "3  2014  13JAN2014        51      51061  51061930205  38.71735   -77.8965   \n",
       "\n",
       "  ds_pm_pred ds_pm_stdd  \n",
       "0    12.4809     7.1488  \n",
       "1     5.6266     3.1003  \n",
       "2     8.9377      5.367  \n",
       "3     8.0598     5.6433  "
      ]
     },
     "execution_count": 7,
     "metadata": {},
     "output_type": "execute_result"
    }
   ],
   "source": [
    "results_df.head(4)"
   ]
  },
  {
   "cell_type": "code",
   "execution_count": 8,
   "id": "08dc57d8-02bf-400c-bd23-cbc22dd6c150",
   "metadata": {},
   "outputs": [
    {
     "data": {
      "text/plain": [
       "{'13JAN2014'}"
      ]
     },
     "execution_count": 8,
     "metadata": {},
     "output_type": "execute_result"
    }
   ],
   "source": [
    "# s = pd.to_datetime(results_df['date'], '%d%b%Y')\n",
    "s = results_df['date']\n",
    "set(s)"
   ]
  },
  {
   "cell_type": "code",
   "execution_count": 9,
   "id": "791dc3dd-428a-4d3e-b394-47227102d7b2",
   "metadata": {},
   "outputs": [
    {
     "data": {
      "text/plain": [
       "'15Nov2013'"
      ]
     },
     "execution_count": 9,
     "metadata": {},
     "output_type": "execute_result"
    }
   ],
   "source": [
    "t = '15NOV2013'\n",
    "t.title()"
   ]
  },
  {
   "cell_type": "code",
   "execution_count": 10,
   "id": "963757c5-b36c-4a4c-86b7-62f8a6a34d88",
   "metadata": {},
   "outputs": [
    {
     "data": {
      "text/plain": [
       "Timestamp('2013-11-15 00:00:00')"
      ]
     },
     "execution_count": 10,
     "metadata": {},
     "output_type": "execute_result"
    }
   ],
   "source": [
    "pd.to_datetime(t.title(), format='%d%b%Y')"
   ]
  },
  {
   "cell_type": "code",
   "execution_count": 11,
   "id": "4f3cc62a-1c88-4bdb-9714-6c0e784c529f",
   "metadata": {},
   "outputs": [
    {
     "data": {
      "text/plain": [
       "Timestamp('2013-11-15 00:00:00')"
      ]
     },
     "execution_count": 11,
     "metadata": {},
     "output_type": "execute_result"
    }
   ],
   "source": [
    "pd.to_datetime(t, format='%d%b%Y')"
   ]
  },
  {
   "cell_type": "code",
   "execution_count": 12,
   "id": "d4ff4998-d135-4861-8b29-e6821db8ec44",
   "metadata": {},
   "outputs": [
    {
     "data": {
      "text/plain": [
       "year                   int16\n",
       "date          datetime64[ns]\n",
       "statefips               int8\n",
       "countyfips             int32\n",
       "ctfips                 int64\n",
       "latitude             float32\n",
       "longitude            float32\n",
       "ds_pm_pred           float32\n",
       "ds_pm_stdd           float32\n",
       "dtype: object"
      ]
     },
     "execution_count": 12,
     "metadata": {},
     "output_type": "execute_result"
    }
   ],
   "source": [
    "df_dtypes = {\n",
    "    'year': 'int16', # can be dropped\n",
    "    'date': 'category', \n",
    "    'statefips': 'int8', \n",
    "    'countyfips': 'int32', \n",
    "    'ctfips': 'int64', \n",
    "    'latitude': 'float32',\n",
    "    'longitude': 'float32', \n",
    "    'ds_pm_pred': 'float32', \n",
    "    'ds_pm_stdd': 'float32',\n",
    "}\n",
    "\n",
    "for k, v in df_dtypes.items():\n",
    "    if k == 'date':\n",
    "        # continue\n",
    "        results_df[k] = pd.to_datetime(results_df[k], format='%d%b%Y')\n",
    "    else:\n",
    "        results_df[k] = results_df[k].astype(v)\n",
    "\n",
    "results_df.dtypes"
   ]
  },
  {
   "cell_type": "code",
   "execution_count": 1,
   "id": "0a90ba21-4dff-4210-b615-deb68fefb44c",
   "metadata": {},
   "outputs": [
    {
     "ename": "NameError",
     "evalue": "name 'client' is not defined",
     "output_type": "error",
     "traceback": [
      "\u001b[0;31m---------------------------------------------------------------------------\u001b[0m",
      "\u001b[0;31mNameError\u001b[0m                                 Traceback (most recent call last)",
      "Input \u001b[0;32mIn [1]\u001b[0m, in \u001b[0;36m<cell line: 1>\u001b[0;34m()\u001b[0m\n\u001b[0;32m----> 1\u001b[0m \u001b[43mclient\u001b[49m\u001b[38;5;241m.\u001b[39mclose()\n",
      "\u001b[0;31mNameError\u001b[0m: name 'client' is not defined"
     ]
    }
   ],
   "source": [
    "client.close()"
   ]
  },
  {
   "cell_type": "code",
   "execution_count": null,
   "id": "a51c17e9-1c0d-48be-8fd7-363c178f73d3",
   "metadata": {},
   "outputs": [],
   "source": []
  }
 ],
 "metadata": {
  "kernelspec": {
   "display_name": "IPython - invlyr",
   "language": "python",
   "name": "invlyr"
  },
  "language_info": {
   "codemirror_mode": {
    "name": "ipython",
    "version": 3
   },
   "file_extension": ".py",
   "mimetype": "text/x-python",
   "name": "python",
   "nbconvert_exporter": "python",
   "pygments_lexer": "ipython3",
   "version": "3.10.4"
  }
 },
 "nbformat": 4,
 "nbformat_minor": 5
}
