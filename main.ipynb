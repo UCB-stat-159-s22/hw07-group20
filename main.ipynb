{
 "cells": [
  {
   "cell_type": "markdown",
   "id": "b6873af9-4a56-49f6-aec6-729c48bc7dfc",
   "metadata": {},
   "source": [
    "# Main narrative notebook\n",
    "by Group 20 (Michael Milazzo, Jacob Jossart, and Kaichi Inoue)"
   ]
  },
  {
   "cell_type": "code",
   "execution_count": null,
   "id": "423a03f0-2654-407d-a980-6155d7464da8",
   "metadata": {},
   "outputs": [],
   "source": []
  },
  {
   "cell_type": "code",
   "execution_count": null,
   "id": "b473e1d1-9ff7-41e2-839a-9c177618090c",
   "metadata": {},
   "outputs": [],
   "source": []
  },
  {
   "cell_type": "code",
   "execution_count": null,
   "id": "04a59f08-a80a-4d68-bf09-96bc9b5626ed",
   "metadata": {},
   "outputs": [],
   "source": []
  },
  {
   "cell_type": "code",
   "execution_count": null,
   "id": "7d982e39-ec55-49a4-9e73-64b5ef4a3130",
   "metadata": {},
   "outputs": [],
   "source": []
  },
  {
   "cell_type": "code",
   "execution_count": null,
   "id": "75990b6f-a4dd-46b8-acc6-e7ec6ccb24e3",
   "metadata": {},
   "outputs": [],
   "source": []
  },
  {
   "cell_type": "code",
   "execution_count": null,
   "id": "059db99b-8e49-46fd-b1b1-0ab3ea65ad75",
   "metadata": {},
   "outputs": [],
   "source": []
  },
  {
   "cell_type": "code",
   "execution_count": null,
   "id": "a8e985d0-979d-48f2-b129-dc37c665403a",
   "metadata": {},
   "outputs": [],
   "source": []
  },
  {
   "cell_type": "code",
   "execution_count": null,
   "id": "9601529a-d0be-46e3-91b7-085a919c8db2",
   "metadata": {},
   "outputs": [],
   "source": []
  },
  {
   "cell_type": "markdown",
   "id": "2aca5d98-14f7-49f5-bfaa-8f9e9adcab12",
   "metadata": {},
   "source": [
    "## Author Contributions\n",
    "..."
   ]
  },
  {
   "cell_type": "code",
   "execution_count": null,
   "id": "570b680b-b878-454c-a8c3-9e23ffe6eed4",
   "metadata": {},
   "outputs": [],
   "source": []
  }
 ],
 "metadata": {
  "kernelspec": {
   "display_name": "Python 3 (ipykernel)",
   "language": "python",
   "name": "python3"
  },
  "language_info": {
   "codemirror_mode": {
    "name": "ipython",
    "version": 3
   },
   "file_extension": ".py",
   "mimetype": "text/x-python",
   "name": "python",
   "nbconvert_exporter": "python",
   "pygments_lexer": "ipython3",
   "version": "3.9.9"
  }
 },
 "nbformat": 4,
 "nbformat_minor": 5
}
